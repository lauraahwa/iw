{
 "cells": [
  {
   "cell_type": "code",
   "execution_count": 7,
   "metadata": {},
   "outputs": [
    {
     "name": "stdout",
     "output_type": "stream",
     "text": [
      "Token: 我, POS: PRON, Detailed Tag: PN\n",
      "Token: 喜歡, POS: VERB, Detailed Tag: VV\n",
      "Token: 學習, POS: ADJ, Detailed Tag: JJ\n",
      "Token: 中文, POS: NOUN, Detailed Tag: NN\n",
      "Token: 。, POS: PUNCT, Detailed Tag: PU\n"
     ]
    }
   ],
   "source": [
    "import spacy\n",
    "from spacy.lang.zh.examples import sentences\n",
    "\n",
    "# Load the Chinese language model\n",
    "nlp = spacy.load(\"zh_core_web_sm\")\n",
    "\n",
    "# Input sentence in Mandarin\n",
    "sentence = \"我喜歡學習中文。\"\n",
    "\n",
    "# Process the sentence\n",
    "doc = nlp(sentence)\n",
    "\n",
    "# Extract and print POS tags\n",
    "for token in doc:\n",
    "    print(f\"Token: {token.text}, POS: {token.pos_}, Detailed Tag: {token.tag_}\")"
   ]
  },
  {
   "cell_type": "code",
   "execution_count": null,
   "metadata": {},
   "outputs": [],
   "source": []
  }
 ],
 "metadata": {
  "kernelspec": {
   "display_name": "iw_env",
   "language": "python",
   "name": "python3"
  },
  "language_info": {
   "codemirror_mode": {
    "name": "ipython",
    "version": 3
   },
   "file_extension": ".py",
   "mimetype": "text/x-python",
   "name": "python",
   "nbconvert_exporter": "python",
   "pygments_lexer": "ipython3",
   "version": "3.12.6"
  },
  "orig_nbformat": 4
 },
 "nbformat": 4,
 "nbformat_minor": 2
}
